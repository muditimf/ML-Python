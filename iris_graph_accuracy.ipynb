{
 "cells": [
  {
   "cell_type": "code",
   "execution_count": 40,
   "metadata": {},
   "outputs": [],
   "source": [
    "import numpy\n",
    "from sklearn import tree\n",
    "from sklearn.datasets import load_iris\n",
    "from sklearn.model_selection import train_test_split\n",
    "from sklearn.metrics import accuracy_score\n",
    "import matplotlib.pyplot as plt"
   ]
  },
  {
   "cell_type": "code",
   "execution_count": 41,
   "metadata": {},
   "outputs": [
    {
     "data": {
      "text/plain": [
       "['DESCR', 'data', 'feature_names', 'target', 'target_names']"
      ]
     },
     "execution_count": 41,
     "metadata": {},
     "output_type": "execute_result"
    }
   ],
   "source": [
    "iris=load_iris()\n",
    "dir(iris)"
   ]
  },
  {
   "cell_type": "code",
   "execution_count": 42,
   "metadata": {},
   "outputs": [
    {
     "name": "stdout",
     "output_type": "stream",
     "text": [
      "[0 1 0 2 0 1 2 0 2 0 2 0 1 0 1 1 0 0 2 0 0 0 2 2 2 2 1 2 1 1]\n",
      "1.0\n",
      "[2 2 1 2 0 2 1 2 1 1 0 2 2 0 1 0 0 1 2 0 1 1 0 2 0 2 0 0 2 1 0 2 0 1 1 2 2\n",
      " 1 2 0 1 2 1 2 0 2 2 2 1 0 0 2 2 1 0 0 1 0 1 2]\n",
      "0.9666666666666667\n",
      "[1 2 2 2 0 2 1 1 1 1 2 1 1 0 0 2 1 1 0 0 2 2 1 1 1 2 2 2 0 1 1 0 2 0 1 2 2\n",
      " 0 1 0 0 2 1 1 1 1 0 1 1 1 2 0 2 1 0 0 0 2 2 0 0 0 0 0 0 0 2 0 2 1 2 2 2 1\n",
      " 1 0 1 1 1 0 2 2 1 1 2 1 2 2 2 0]\n",
      "0.9444444444444444\n",
      "[0 0 0 0 0 2 2 2 1 2 2 1 2 1 1 0 2 1 1 2 0 2 1 1 1 0 1 2 2 0 2 1 1 2 2 1 0\n",
      " 1 0 1 2 0 2 1 0 0 1 2 0 1 2 1 0 2 0 1 1 0 2 1 0 1 0 1 2 2 2 2 2 0 1 2 0 0\n",
      " 2 2 1 0 2 2 1 1 2 0 1 1 0 2 1 1 0 0 1 1 0 0 2 0 1 0 0 2 1 2 1 0 0 1 2 1 0\n",
      " 1 0 2 1 0 1 1 0 0]\n",
      "0.95\n"
     ]
    }
   ],
   "source": [
    "x,y,z,a=train_test_split(iris.data,iris.target,test_size=0.2)\n",
    "algo=tree.DecisionTreeClassifier()\n",
    "trained=algo.fit(x,z)\n",
    "output=trained.predict(y)\n",
    "print(output)\n",
    "\n",
    "acc=[]\n",
    "check=accuracy_score(a,output)\n",
    "print(check)\n",
    "acc.append(check)\n",
    "\n",
    "x,y,z,a=train_test_split(iris.data,iris.target,test_size=0.4)\n",
    "algo=tree.DecisionTreeClassifier()\n",
    "trained=algo.fit(x,z)\n",
    "output=trained.predict(y)\n",
    "print(output)\n",
    "\n",
    "check=accuracy_score(a,output)\n",
    "print(check)\n",
    "acc.append(check)\n",
    "\n",
    "x,y,z,a=train_test_split(iris.data,iris.target,test_size=0.6)\n",
    "algo=tree.DecisionTreeClassifier()\n",
    "trained=algo.fit(x,z)\n",
    "output=trained.predict(y)\n",
    "print(output)\n",
    "\n",
    "check=accuracy_score(a,output)\n",
    "print(check)\n",
    "acc.append(check)\n",
    "\n",
    "x,y,z,a=train_test_split(iris.data,iris.target,test_size=0.8)\n",
    "algo=tree.DecisionTreeClassifier()\n",
    "trained=algo.fit(x,z)\n",
    "output=trained.predict(y)\n",
    "print(output)\n",
    "\n",
    "check=accuracy_score(a,output)\n",
    "print(check)\n",
    "acc.append(check)\n"
   ]
  },
  {
   "cell_type": "code",
   "execution_count": null,
   "metadata": {},
   "outputs": [],
   "source": []
  },
  {
   "cell_type": "code",
   "execution_count": 39,
   "metadata": {},
   "outputs": [
    {
     "data": {
      "image/png": "[encoded data removed]",
      "text/plain": [
       "<Figure size 432x288 with 1 Axes>"
      ]
     },
     "metadata": {},
     "output_type": "display_data"
    }
   ],
   "source": [
    "x=[\"20 %\",\"40%\",\"60%\",\"80%\"]\n",
    "plt.bar(x,acc,label='accuracy')\n",
    "plt.legend()\n",
    "plt.show()"
   ]
  },
  {
   "cell_type": "code",
   "execution_count": null,
   "metadata": {},
   "outputs": [],
   "source": []
  }
 ],
 "metadata": {
  "kernelspec": {
   "display_name": "Python 3",
   "language": "python",
   "name": "python3"
  },
  "language_info": {
   "codemirror_mode": {
    "name": "ipython",
    "version": 3
   },
   "file_extension": ".py",
   "mimetype": "text/x-python",
   "name": "python",
   "nbconvert_exporter": "python",
   "pygments_lexer": "ipython3",
   "version": "3.5.2"
  }
 },
 "nbformat": 4,
 "nbformat_minor": 2
}
