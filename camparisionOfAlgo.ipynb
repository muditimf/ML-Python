{
 "cells": [
  {
   "cell_type": "code",
   "execution_count": 19,
   "metadata": {},
   "outputs": [],
   "source": [
    "import numpy\n",
    "from sklearn import tree\n",
    "from sklearn.datasets import load_iris\n",
    "from sklearn.model_selection import train_test_split\n",
    "from sklearn.metrics import accuracy_score\n",
    "import matplotlib.pyplot as plt\n",
    "from sklearn.neighbors import KNeighborsClassifier"
   ]
  },
  {
   "cell_type": "code",
   "execution_count": 20,
   "metadata": {},
   "outputs": [
    {
     "data": {
      "text/plain": [
       "['DESCR', 'data', 'feature_names', 'target', 'target_names']"
      ]
     },
     "execution_count": 20,
     "metadata": {},
     "output_type": "execute_result"
    }
   ],
   "source": [
    "iris=load_iris()\n",
    "dir(iris)\n"
   ]
  },
  {
   "cell_type": "code",
   "execution_count": 21,
   "metadata": {},
   "outputs": [
    {
     "name": "stdout",
     "output_type": "stream",
     "text": [
      "[2 0 1 0 1 2 1 0 2 1 2 1 2 0 1 1 2 1 2 2 1 0 0 2 1 0 0 1 1 0 0 2 0 0 0 1 1\n",
      " 1 0 0 0 0 1 0 1 1 1 2 2 1 1 1 1 0 0 1 1 2 0 1 1 0 0 0 2 0 2 1 0 0 0 2 1 1\n",
      " 0]\n",
      "[2 0 1 0 1 2 1 0 2 1 2 1 2 0 1 1 2 1 2 2 1 0 0 2 1 0 0 1 1 0 0 2 0 0 0 1 1\n",
      " 1 0 0 0 0 1 0 1 1 1 2 2 1 2 1 1 0 0 1 1 2 0 1 1 0 0 0 2 0 2 1 0 0 0 2 1 1\n",
      " 0]\n",
      "0.96\n",
      "0.9466666666666667\n"
     ]
    }
   ],
   "source": [
    "x,y,z,a=train_test_split(iris.data,iris.target,test_size=0.5)\n",
    "#decisionTreealgo\n",
    "algodt=tree.DecisionTreeClassifier()\n",
    "traineddt=algodt.fit(x,z)\n",
    "outputdt=traineddt.predict(y)\n",
    "print(outputdt)\n",
    "\n",
    "#Knnalgo\n",
    "algokn=KNeighborsClassifier(n_neighbors=3)\n",
    "trainedkn=algokn.fit(x,z)\n",
    "outputkn=trainedkn.predict(y)\n",
    "print(outputkn)\n",
    "\n",
    "#accuracy of dt\n",
    "dt=accuracy_score(a,outputdt)\n",
    "print(dt)\n",
    "\n",
    "#accuracy of kn\n",
    "kn=accuracy_score(a,outputkn)\n",
    "print(kn)"
   ]
  },
  {
   "cell_type": "code",
   "execution_count": 22,
   "metadata": {},
   "outputs": [
    {
     "data": {
      "image/png": "[encoded data removed]",
      "text/plain": [
       "<Figure size 432x288 with 1 Axes>"
      ]
     },
     "metadata": {},
     "output_type": "display_data"
    }
   ],
   "source": [
    "x=[\"DecisionTree\",\"KNeighbors\"]\n",
    "y=[dt,kn]\n",
    "plt.bar(x,y,label='accuracy')\n",
    "plt.legend()\n",
    "plt.show()"
   ]
  },
  {
   "cell_type": "code",
   "execution_count": null,
   "metadata": {},
   "outputs": [],
   "source": []
  },
  {
   "cell_type": "code",
   "execution_count": null,
   "metadata": {},
   "outputs": [],
   "source": []
  },
  {
   "cell_type": "code",
   "execution_count": null,
   "metadata": {},
   "outputs": [],
   "source": []
  },
  {
   "cell_type": "code",
   "execution_count": null,
   "metadata": {},
   "outputs": [],
   "source": []
  }
 ],
 "metadata": {
  "kernelspec": {
   "display_name": "Python 3",
   "language": "python",
   "name": "python3"
  },
  "language_info": {
   "codemirror_mode": {
    "name": "ipython",
    "version": 3
   },
   "file_extension": ".py",
   "mimetype": "text/x-python",
   "name": "python",
   "nbconvert_exporter": "python",
   "pygments_lexer": "ipython3",
   "version": "3.5.2"
  }
 },
 "nbformat": 4,
 "nbformat_minor": 2
}
